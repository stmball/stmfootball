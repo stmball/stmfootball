{
 "cells": [
  {
   "cell_type": "markdown",
   "metadata": {},
   "source": [
    "# stmfootball notebook\n",
    "\n",
    "This notebook is designed as a chronological log of the approaches used to select a team."
   ]
  },
  {
   "cell_type": "code",
   "execution_count": 1,
   "metadata": {},
   "outputs": [],
   "source": [
    "# Import all the libraries\n",
    "\n",
    "import pandas as pd\n",
    "import numpy as np\n",
    "import matplotlib.pyplot as plt\n",
    "import seaborn as sns\n",
    "\n",
    "from pathlib import Path\n",
    "\n",
    "# YUCK!\n",
    "import sys\n",
    "import os\n",
    "sys.path.append(os.getcwd() + \"/src\")\n",
    "import src as football"
   ]
  },
  {
   "cell_type": "markdown",
   "metadata": {},
   "source": [
    "## Step 1: Explore the data\n",
    "\n",
    "We are first going to start by exploring the most recent year of data to see what we have access to:"
   ]
  },
  {
   "cell_type": "code",
   "execution_count": null,
   "metadata": {},
   "outputs": [
    {
     "name": "stdout",
     "output_type": "stream",
     "text": [
      "<class 'pandas.core.frame.DataFrame'>\n",
      "RangeIndex: 778 entries, 0 to 777\n",
      "Data columns (total 88 columns):\n",
      " #   Column                                Non-Null Count  Dtype  \n",
      "---  ------                                --------------  -----  \n",
      " 0   assists                               778 non-null    int64  \n",
      " 1   bonus                                 778 non-null    int64  \n",
      " 2   bps                                   778 non-null    int64  \n",
      " 3   chance_of_playing_next_round          592 non-null    float64\n",
      " 4   chance_of_playing_this_round          592 non-null    float64\n",
      " 5   clean_sheets                          778 non-null    int64  \n",
      " 6   clean_sheets_per_90                   778 non-null    float64\n",
      " 7   code                                  778 non-null    int64  \n",
      " 8   corners_and_indirect_freekicks_order  77 non-null     float64\n",
      " 9   corners_and_indirect_freekicks_text   0 non-null      float64\n",
      " 10  cost_change_event                     778 non-null    int64  \n",
      " 11  cost_change_event_fall                778 non-null    int64  \n",
      " 12  cost_change_start                     778 non-null    int64  \n",
      " 13  cost_change_start_fall                778 non-null    int64  \n",
      " 14  creativity                            778 non-null    float64\n",
      " 15  creativity_rank                       778 non-null    int64  \n",
      " 16  creativity_rank_type                  778 non-null    int64  \n",
      " 17  direct_freekicks_order                68 non-null     float64\n",
      " 18  direct_freekicks_text                 0 non-null      float64\n",
      " 19  dreamteam_count                       778 non-null    int64  \n",
      " 20  element_type                          778 non-null    int64  \n",
      " 21  ep_next                               775 non-null    float64\n",
      " 22  ep_this                               778 non-null    float64\n",
      " 23  event_points                          778 non-null    int64  \n",
      " 24  expected_assists                      778 non-null    float64\n",
      " 25  expected_assists_per_90               778 non-null    float64\n",
      " 26  expected_goal_involvements            778 non-null    float64\n",
      " 27  expected_goal_involvements_per_90     778 non-null    float64\n",
      " 28  expected_goals                        778 non-null    float64\n",
      " 29  expected_goals_conceded               778 non-null    float64\n",
      " 30  expected_goals_conceded_per_90        778 non-null    float64\n",
      " 31  expected_goals_per_90                 778 non-null    float64\n",
      " 32  first_name                            778 non-null    object \n",
      " 33  form                                  778 non-null    float64\n",
      " 34  form_rank                             778 non-null    int64  \n",
      " 35  form_rank_type                        778 non-null    int64  \n",
      " 36  goals_conceded                        778 non-null    int64  \n",
      " 37  goals_conceded_per_90                 778 non-null    float64\n",
      " 38  goals_scored                          778 non-null    int64  \n",
      " 39  ict_index                             778 non-null    float64\n",
      " 40  ict_index_rank                        778 non-null    int64  \n",
      " 41  ict_index_rank_type                   778 non-null    int64  \n",
      " 42  id                                    778 non-null    int64  \n",
      " 43  in_dreamteam                          778 non-null    bool   \n",
      " 44  influence                             778 non-null    float64\n",
      " 45  influence_rank                        778 non-null    int64  \n",
      " 46  influence_rank_type                   778 non-null    int64  \n",
      " 47  minutes                               778 non-null    int64  \n",
      " 48  news                                  291 non-null    object \n",
      " 49  news_added                            592 non-null    object \n",
      " 50  now_cost                              778 non-null    int64  \n",
      " 51  now_cost_rank                         778 non-null    int64  \n",
      " 52  now_cost_rank_type                    778 non-null    int64  \n",
      " 53  own_goals                             778 non-null    int64  \n",
      " 54  penalties_missed                      778 non-null    int64  \n",
      " 55  penalties_order                       60 non-null     float64\n",
      " 56  penalties_saved                       778 non-null    int64  \n",
      " 57  penalties_text                        0 non-null      float64\n",
      " 58  photo                                 778 non-null    object \n",
      " 59  points_per_game                       778 non-null    float64\n",
      " 60  points_per_game_rank                  778 non-null    int64  \n",
      " 61  points_per_game_rank_type             778 non-null    int64  \n",
      " 62  red_cards                             778 non-null    int64  \n",
      " 63  saves                                 778 non-null    int64  \n",
      " 64  saves_per_90                          778 non-null    float64\n",
      " 65  second_name                           778 non-null    object \n",
      " 66  selected_by_percent                   778 non-null    float64\n",
      " 67  selected_rank                         778 non-null    int64  \n",
      " 68  selected_rank_type                    778 non-null    int64  \n",
      " 69  special                               778 non-null    bool   \n",
      " 70  squad_number                          0 non-null      float64\n",
      " 71  starts                                778 non-null    int64  \n",
      " 72  starts_per_90                         778 non-null    float64\n",
      " 73  status                                778 non-null    object \n",
      " 74  team                                  778 non-null    int64  \n",
      " 75  team_code                             778 non-null    int64  \n",
      " 76  threat                                778 non-null    float64\n",
      " 77  threat_rank                           778 non-null    int64  \n",
      " 78  threat_rank_type                      778 non-null    int64  \n",
      " 79  total_points                          778 non-null    int64  \n",
      " 80  transfers_in                          778 non-null    int64  \n",
      " 81  transfers_in_event                    778 non-null    int64  \n",
      " 82  transfers_out                         778 non-null    int64  \n",
      " 83  transfers_out_event                   778 non-null    int64  \n",
      " 84  value_form                            778 non-null    float64\n",
      " 85  value_season                          778 non-null    float64\n",
      " 86  web_name                              778 non-null    object \n",
      " 87  yellow_cards                          778 non-null    int64  \n",
      "dtypes: bool(2), float64(32), int64(47), object(7)\n",
      "memory usage: 524.4+ KB\n"
     ]
    }
   ],
   "source": [
    "stats_2022_2023  = Path(\"./data/data/2021-22/players_raw.csv\")\n",
    "df = pd.read_csv(stats_2022_2023)\n",
    "df.info()"
   ]
  },
  {
   "cell_type": "code",
   "execution_count": 3,
   "metadata": {},
   "outputs": [],
   "source": [
    "cheapest_team = pd.concat([football.analysis.get_cheapest_players_by_position(df, pos, num) for pos, num in zip([1, 2, 3, 4], [2, 5, 5, 3])])\n",
    "\n",
    "# Create a squad\n",
    "squad = football.squad.Squad.from_pandas_df(cheapest_team)"
   ]
  },
  {
   "cell_type": "code",
   "execution_count": null,
   "metadata": {},
   "outputs": [],
   "source": []
  },
  {
   "cell_type": "code",
   "execution_count": null,
   "metadata": {},
   "outputs": [],
   "source": []
  }
 ],
 "metadata": {
  "kernelspec": {
   "display_name": ".venv",
   "language": "python",
   "name": "python3"
  },
  "language_info": {
   "codemirror_mode": {
    "name": "ipython",
    "version": 3
   },
   "file_extension": ".py",
   "mimetype": "text/x-python",
   "name": "python",
   "nbconvert_exporter": "python",
   "pygments_lexer": "ipython3",
   "version": "3.11.2"
  },
  "orig_nbformat": 4
 },
 "nbformat": 4,
 "nbformat_minor": 2
}
